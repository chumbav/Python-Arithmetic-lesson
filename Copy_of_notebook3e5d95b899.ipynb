{
  "metadata": {
    "kernelspec": {
      "display_name": "Python 3",
      "language": "python",
      "name": "python3"
    },
    "language_info": {
      "codemirror_mode": {
        "name": "ipython",
        "version": 3
      },
      "file_extension": ".py",
      "mimetype": "text/x-python",
      "name": "python",
      "nbconvert_exporter": "python",
      "pygments_lexer": "ipython3",
      "version": "3.10.12"
    },
    "kaggle": {
      "accelerator": "none",
      "dataSources": [
        {
          "sourceId": 3136,
          "databundleVersionId": 26502,
          "sourceType": "competition"
        }
      ],
      "dockerImageVersionId": 30886,
      "isInternetEnabled": false,
      "language": "python",
      "sourceType": "notebook",
      "isGpuEnabled": false
    },
    "papermill": {
      "default_parameters": {},
      "duration": 3.496301,
      "end_time": "2025-02-18T21:06:41.107046",
      "environment_variables": {},
      "exception": null,
      "input_path": "__notebook__.ipynb",
      "output_path": "__notebook__.ipynb",
      "parameters": {},
      "start_time": "2025-02-18T21:06:37.610745",
      "version": "2.6.0"
    },
    "colab": {
      "provenance": [],
      "toc_visible": true,
      "include_colab_link": true
    }
  },
  "nbformat_minor": 0,
  "nbformat": 4,
  "cells": [
    {
      "cell_type": "markdown",
      "metadata": {
        "id": "view-in-github",
        "colab_type": "text"
      },
      "source": [
        "<a href=\"https://colab.research.google.com/github/jessegitonga/Python-Arithmetic-lesson/blob/main/Copy_of_notebook3e5d95b899.ipynb\" target=\"_parent\"><img src=\"https://colab.research.google.com/assets/colab-badge.svg\" alt=\"Open In Colab\"/></a>"
      ]
    },
    {
      "source": [
        "# IMPORTANT: SOME KAGGLE DATA SOURCES ARE PRIVATE\n",
        "# RUN THIS CELL IN ORDER TO IMPORT YOUR KAGGLE DATA SOURCES.\n",
        "import kagglehub\n",
        "kagglehub.login()\n"
      ],
      "metadata": {
        "id": "MqEvO9GJll1a"
      },
      "cell_type": "code",
      "outputs": [],
      "execution_count": null
    },
    {
      "source": [
        "# IMPORTANT: RUN THIS CELL IN ORDER TO IMPORT YOUR KAGGLE DATA SOURCES,\n",
        "# THEN FEEL FREE TO DELETE THIS CELL.\n",
        "# NOTE: THIS NOTEBOOK ENVIRONMENT DIFFERS FROM KAGGLE'S PYTHON\n",
        "# ENVIRONMENT SO THERE MAY BE MISSING LIBRARIES USED BY YOUR\n",
        "# NOTEBOOK.\n",
        "\n",
        "titanic_path = kagglehub.competition_download('titanic')\n",
        "\n",
        "print('Data source import complete.')\n"
      ],
      "metadata": {
        "id": "Kllif2mLll1d"
      },
      "cell_type": "code",
      "outputs": [],
      "execution_count": null
    },
    {
      "cell_type": "code",
      "source": [
        "**This notebook is an exercise in the [Intro to Programming](https://www.kaggle.com/learn/intro-to-programming) course.  You can reference the tutorial at [this link](https://www.kaggle.com/alexisbcook/arithmetic-and-variables).**\n",
        "\n",
        "---\n"
      ],
      "metadata": {
        "papermill": {
          "duration": 0.00389,
          "end_time": "2025-02-18T21:06:39.628481",
          "exception": false,
          "start_time": "2025-02-18T21:06:39.624591",
          "status": "completed"
        },
        "tags": [],
        "trusted": true,
        "execution": {
          "iopub.status.busy": "2025-02-19T03:04:42.817408Z",
          "iopub.execute_input": "2025-02-19T03:04:42.81778Z",
          "iopub.status.idle": "2025-02-19T03:04:42.825362Z",
          "shell.execute_reply.started": "2025-02-19T03:04:42.817748Z",
          "shell.execute_reply": "2025-02-19T03:04:42.823641Z"
        },
        "id": "CLO63Tnvll1d"
      },
      "outputs": [],
      "execution_count": null
    },
    {
      "cell_type": "markdown",
      "source": [
        "This exercise will get you started with running your own code.  \n",
        "\n",
        "# Set up the notebook\n",
        "\n",
        "To begin, run the code in the next cell.\n",
        "- Begin by clicking inside the code cell.  \n",
        "- Click on the triangle (in the shape of a \"Play button\") that appears to the left of the code cell.\n",
        "- If your code was run sucessfully, you will see `Setup Complete` as output below the cell.\n",
        "\n",
        "Instead of clicking on the triangle, you can also run code by pressing Shift + Enter on your keyboard.  Try this now!  Nothing bad will happen if you run the code more than once."
      ],
      "metadata": {
        "papermill": {
          "duration": 0.002958,
          "end_time": "2025-02-18T21:06:39.634764",
          "exception": false,
          "start_time": "2025-02-18T21:06:39.631806",
          "status": "completed"
        },
        "tags": [],
        "id": "DV2W8wdxll1d"
      }
    },
    {
      "cell_type": "code",
      "source": [
        "# Set up the exercise\n",
        "from learntools.core import binder\n",
        "binder.bind(globals())\n",
        "from learntools.intro_to_programming.ex1 import *\n",
        "print('Setup complete.')"
      ],
      "metadata": {
        "execution": {
          "iopub.status.busy": "2025-02-19T03:04:42.826133Z",
          "iopub.status.idle": "2025-02-19T03:04:42.826475Z",
          "shell.execute_reply": "2025-02-19T03:04:42.826322Z"
        },
        "papermill": {
          "duration": 0.761178,
          "end_time": "2025-02-18T21:06:40.398975",
          "exception": false,
          "start_time": "2025-02-18T21:06:39.637797",
          "status": "completed"
        },
        "tags": [],
        "trusted": true,
        "id": "QoCdEoMpll1f"
      },
      "outputs": [],
      "execution_count": null
    },
    {
      "cell_type": "markdown",
      "source": [
        "The code above sets up the notebook so that it can check your answers in this exercise.  You should never modify this code.  (Otherwise, the notebook won't be able to verify that you have successfully completed the exercise.)\n",
        "\n",
        "After finishing all of the questions below, you'll see the exercise marked as complete on the [course page](http://www.kaggle.com/learn/intro-to-programming).  Once you complete all of the lessons, you'll get a course completion certificate!\n",
        "\n",
        "# Question 1\n",
        "\n",
        "Next, you will run some code from the tutorial, so you can see how it works for yourself.  Run the next code cell without changes."
      ],
      "metadata": {
        "papermill": {
          "duration": 0.003122,
          "end_time": "2025-02-18T21:06:40.405854",
          "exception": false,
          "start_time": "2025-02-18T21:06:40.402732",
          "status": "completed"
        },
        "tags": [],
        "id": "ELuqNs1Dll1f"
      }
    },
    {
      "cell_type": "code",
      "source": [
        "print(\"Hello, world!\")\n",
        "\n",
        "# DO NOT REMOVE: Mark this question as completed\n",
        "#q1.check()"
      ],
      "metadata": {
        "execution": {
          "iopub.status.busy": "2025-02-19T03:07:44.508225Z",
          "iopub.execute_input": "2025-02-19T03:07:44.508755Z",
          "iopub.status.idle": "2025-02-19T03:07:44.523962Z",
          "shell.execute_reply.started": "2025-02-19T03:07:44.508714Z",
          "shell.execute_reply": "2025-02-19T03:07:44.522016Z"
        },
        "papermill": {
          "duration": 0.011507,
          "end_time": "2025-02-18T21:06:40.420596",
          "exception": false,
          "start_time": "2025-02-18T21:06:40.409089",
          "status": "completed"
        },
        "tags": [],
        "trusted": true,
        "id": "1kIk2gbhll1f",
        "outputId": "10774953-61f8-43f3-c758-58a9823f1571",
        "colab": {
          "base_uri": "https://localhost:8080/"
        }
      },
      "outputs": [
        {
          "output_type": "stream",
          "name": "stdout",
          "text": [
            "Hello, world!\n"
          ]
        }
      ],
      "execution_count": null
    },
    {
      "cell_type": "markdown",
      "source": [
        "You just ran code to print `Hello world!`, which you should see in the output above.\n",
        "\n",
        "The second line of code (`q1.check()`) checks your answer.  You should never modify this checking code; if you remove it, you won't get credit for completing the problem.\n",
        "\n",
        "# Question 2\n",
        "\n",
        "Now, you will print another message of your choosing.  To do this, change `print(\"Your message here!\")` to use a different message.  For instance, you might like to change it to something like:\n",
        "- `print(\"Good morning!\")`\n",
        "- `print(\"I am learning how to code :D\")`\n",
        "\n",
        "Or, you might like to see what happens if you write something like `print(\"3+4\")`.  Does it return 7, or does it just think of `\"3+4\"` as just another message?\n",
        "\n",
        "Make sure that your message is enclosed in quotation marks (`\"`), and the message itself does not use quotation marks. For instance, this will throw an error: `print(\"She said \"great job\" and gave me a high-five!\")` because the message contains quotation marks.  If you decide to take the Python course after completing this course, you will learn more about how to avoid this error in [Lesson 6](https://www.kaggle.com/colinmorris/strings-and-dictionaries).\n",
        "\n",
        "Feel free to try out multiple messages!"
      ],
      "metadata": {
        "papermill": {
          "duration": 0.003219,
          "end_time": "2025-02-18T21:06:40.427389",
          "exception": false,
          "start_time": "2025-02-18T21:06:40.42417",
          "status": "completed"
        },
        "tags": [],
        "id": "8hb31QLLll1g"
      }
    },
    {
      "cell_type": "code",
      "source": [
        "# TODO: Change the message\n",
        "print(\"Your message here!\")\n",
        "\n",
        "# DO NOT REMOVE: Mark this question as completed\n",
        "#q2.check()"
      ],
      "metadata": {
        "execution": {
          "iopub.status.busy": "2025-02-19T03:07:18.926311Z",
          "iopub.execute_input": "2025-02-19T03:07:18.926799Z",
          "iopub.status.idle": "2025-02-19T03:07:18.943799Z",
          "shell.execute_reply.started": "2025-02-19T03:07:18.926757Z",
          "shell.execute_reply": "2025-02-19T03:07:18.942083Z"
        },
        "papermill": {
          "duration": 0.010237,
          "end_time": "2025-02-18T21:06:40.441038",
          "exception": false,
          "start_time": "2025-02-18T21:06:40.430801",
          "status": "completed"
        },
        "tags": [],
        "trusted": true,
        "id": "ZLElIZpMll1g",
        "outputId": "9a63b759-b49c-463d-ddee-f2112ee008fb",
        "colab": {
          "base_uri": "https://localhost:8080/"
        }
      },
      "outputs": [
        {
          "output_type": "stream",
          "name": "stdout",
          "text": [
            "Your message here!\n"
          ]
        }
      ],
      "execution_count": null
    },
    {
      "cell_type": "code",
      "source": [
        "print (\"Brighton said 'vivaaa' when talking to the comrades \" )\n"
      ],
      "metadata": {
        "execution": {
          "iopub.status.busy": "2025-02-19T03:07:26.635838Z",
          "iopub.execute_input": "2025-02-19T03:07:26.63614Z",
          "iopub.status.idle": "2025-02-19T03:07:26.641747Z",
          "shell.execute_reply.started": "2025-02-19T03:07:26.636113Z",
          "shell.execute_reply": "2025-02-19T03:07:26.640505Z"
        },
        "papermill": {
          "duration": 0.008156,
          "end_time": "2025-02-18T21:06:40.452795",
          "exception": false,
          "start_time": "2025-02-18T21:06:40.444639",
          "status": "completed"
        },
        "tags": [],
        "trusted": true,
        "id": "xPIJnzVall1h",
        "outputId": "5c773cbd-6359-4108-99e9-79155489e1d4",
        "colab": {
          "base_uri": "https://localhost:8080/"
        }
      },
      "outputs": [
        {
          "output_type": "stream",
          "name": "stdout",
          "text": [
            "Brighton said 'vivaaa' when talking to the comrades \n"
          ]
        }
      ],
      "execution_count": null
    },
    {
      "cell_type": "code",
      "source": [],
      "metadata": {
        "papermill": {
          "duration": 0.00346,
          "end_time": "2025-02-18T21:06:40.459889",
          "exception": false,
          "start_time": "2025-02-18T21:06:40.456429",
          "status": "completed"
        },
        "tags": [],
        "trusted": true,
        "id": "LFQU87odll1h"
      },
      "outputs": [],
      "execution_count": null
    },
    {
      "cell_type": "markdown",
      "source": [
        "# Question 3\n",
        "\n",
        "As you learned in the tutorial, a comment in Python has a pound sign (`#`) in front of it, which tells Python to ignore the text after it.\n",
        "\n",
        "Putting a pound sign in front of a line of code will make Python ignore that code.  For instance, this line would be ignored by Python, and nothing would appear in the output:\n",
        "```python\n",
        "#print(1+2)\n",
        "```\n",
        "Removing the pound sign will make it so that you can run the code again. When we remove the pound sign in front of a line of code, we call this **uncommenting**.\n",
        "\n",
        "In this problem, you will uncomment two lines in the code cell below and view the output:\n",
        "- Remove the `#` in front of `q3.hint()`.  To avoid errors, do NOT remove the `#` in front of `# Uncomment to view hint`.  \n",
        "- Next, remove the `#` in front of `q3.solution()`.\n",
        "\n",
        "As in the previous questions, do not change the final line of code that marks your work as completed."
      ],
      "metadata": {
        "papermill": {
          "duration": 0.003297,
          "end_time": "2025-02-18T21:06:40.466771",
          "exception": false,
          "start_time": "2025-02-18T21:06:40.463474",
          "status": "completed"
        },
        "tags": [],
        "id": "2yMavUaEll1h"
      }
    },
    {
      "cell_type": "code",
      "source": [
        "#Uncomment to get a hint\n",
        "#q3.hint()\n",
        "\n",
        "# Uncomment to view solution\n",
        "#q3.solution()\n",
        "\n",
        "# DO NOT REMOVE: Check your answer\n",
        "#q3.check()"
      ],
      "metadata": {
        "execution": {
          "iopub.status.busy": "2025-02-19T03:04:42.876293Z",
          "iopub.execute_input": "2025-02-19T03:04:42.876812Z",
          "iopub.status.idle": "2025-02-19T03:04:42.891131Z",
          "shell.execute_reply.started": "2025-02-19T03:04:42.876772Z",
          "shell.execute_reply": "2025-02-19T03:04:42.888635Z"
        },
        "papermill": {
          "duration": 0.009624,
          "end_time": "2025-02-18T21:06:40.479874",
          "exception": false,
          "start_time": "2025-02-18T21:06:40.47025",
          "status": "completed"
        },
        "tags": [],
        "trusted": true,
        "id": "AqtKXcCzll1h"
      },
      "outputs": [],
      "execution_count": null
    },
    {
      "cell_type": "markdown",
      "source": [
        "In the next question, and in most of the exercises in this course, you will have the option to uncomment to view hints and solutions.  Once you feel comfortable with uncommenting, continue to the next question.\n"
      ],
      "metadata": {
        "papermill": {
          "duration": 0.003527,
          "end_time": "2025-02-18T21:06:40.487205",
          "exception": false,
          "start_time": "2025-02-18T21:06:40.483678",
          "status": "completed"
        },
        "tags": [],
        "id": "ydIryzPwll1h"
      }
    },
    {
      "cell_type": "markdown",
      "source": [
        "# Question 4\n",
        "\n",
        "In the tutorial, you defined several variables to calculate the total number of seconds in a year.  Run the next code cell to do the calculation here."
      ],
      "metadata": {
        "papermill": {
          "duration": 0.003454,
          "end_time": "2025-02-18T21:06:40.494289",
          "exception": false,
          "start_time": "2025-02-18T21:06:40.490835",
          "status": "completed"
        },
        "tags": [],
        "id": "pIvxAWuBll1i"
      }
    },
    {
      "cell_type": "code",
      "source": [
        "# Create variables\n",
        "num_years = 4\n",
        "days_per_year = 365\n",
        "hours_per_day = 24\n",
        "mins_per_hour = 60\n",
        "secs_per_min = 60\n",
        "\n",
        "# Calculate number of seconds in four years\n",
        "total_secs = secs_per_min * mins_per_hour * hours_per_day * days_per_year * num_years\n",
        "print(total_secs)"
      ],
      "metadata": {
        "execution": {
          "iopub.status.busy": "2025-02-19T03:05:46.645568Z",
          "iopub.execute_input": "2025-02-19T03:05:46.645972Z",
          "iopub.status.idle": "2025-02-19T03:05:46.65168Z",
          "shell.execute_reply.started": "2025-02-19T03:05:46.645938Z",
          "shell.execute_reply": "2025-02-19T03:05:46.650625Z"
        },
        "papermill": {
          "duration": 0.010019,
          "end_time": "2025-02-18T21:06:40.507973",
          "exception": false,
          "start_time": "2025-02-18T21:06:40.497954",
          "status": "completed"
        },
        "tags": [],
        "trusted": true,
        "id": "Pqdkp2X9ll1i",
        "outputId": "4f39a567-7e33-46b9-882b-0bc06e0a0686",
        "colab": {
          "base_uri": "https://localhost:8080/"
        }
      },
      "outputs": [
        {
          "output_type": "stream",
          "name": "stdout",
          "text": [
            "126144000\n"
          ]
        }
      ],
      "execution_count": null
    },
    {
      "cell_type": "markdown",
      "source": [
        "Use the next code cell to:\n",
        "- Define a variable `births_per_min` and set it to 250.  (There are on average 250 babies born each minute.)\n",
        "- Define a variable `births_per_day` that contains the average number of babies born each day.  (To set the value of this variable, you should use `births_per_min` and some of the variables from the previous code cell.)\n",
        "\n",
        "Remember you can always get a hint if you need it!"
      ],
      "metadata": {
        "papermill": {
          "duration": 0.003753,
          "end_time": "2025-02-18T21:06:40.516161",
          "exception": false,
          "start_time": "2025-02-18T21:06:40.512408",
          "status": "completed"
        },
        "tags": [],
        "id": "KfcNH-Rkll1i"
      }
    },
    {
      "cell_type": "code",
      "source": [
        "# TODO: Set the value of the births_per_min variable\n",
        "births_per_min = 250\n",
        "\n",
        "# TODO: Set the value of the births_per_day variable\n",
        "births_per_day = 250/60\n",
        "\n",
        "# DO NOT REMOVE: Check your answer\n",
        "print (births_per_day)"
      ],
      "metadata": {
        "execution": {
          "iopub.status.busy": "2025-02-19T03:04:42.916675Z",
          "iopub.execute_input": "2025-02-19T03:04:42.916996Z",
          "iopub.status.idle": "2025-02-19T03:04:42.923942Z",
          "shell.execute_reply.started": "2025-02-19T03:04:42.91697Z",
          "shell.execute_reply": "2025-02-19T03:04:42.921302Z"
        },
        "papermill": {
          "duration": 0.009894,
          "end_time": "2025-02-18T21:06:40.529929",
          "exception": false,
          "start_time": "2025-02-18T21:06:40.520035",
          "status": "completed"
        },
        "tags": [],
        "trusted": true,
        "id": "mc_b1_btll1i",
        "outputId": "be6a8470-a0ea-4c27-8a4a-7a6ddd28206e",
        "colab": {
          "base_uri": "https://localhost:8080/"
        }
      },
      "outputs": [
        {
          "output_type": "stream",
          "name": "stdout",
          "text": [
            "4.166666666666667\n"
          ]
        }
      ],
      "execution_count": null
    },
    {
      "cell_type": "code",
      "source": [
        "# Uncomment to get a hint\n",
        "#q4.hint()\n",
        "\n",
        "# Uncomment to view solution\n",
        "#q4.solution()"
      ],
      "metadata": {
        "execution": {
          "iopub.status.busy": "2025-02-19T03:05:21.825961Z",
          "iopub.execute_input": "2025-02-19T03:05:21.826424Z",
          "iopub.status.idle": "2025-02-19T03:05:21.83134Z",
          "shell.execute_reply.started": "2025-02-19T03:05:21.826381Z",
          "shell.execute_reply": "2025-02-19T03:05:21.829953Z"
        },
        "papermill": {
          "duration": 0.008591,
          "end_time": "2025-02-18T21:06:40.54348",
          "exception": false,
          "start_time": "2025-02-18T21:06:40.534889",
          "status": "completed"
        },
        "tags": [],
        "trusted": true,
        "id": "2JUPzNfEll1i"
      },
      "outputs": [],
      "execution_count": null
    },
    {
      "cell_type": "markdown",
      "source": [
        "# 🌶️ Question 5\n",
        "\n",
        "(Questions marked with a 🌶️ will be a little bit more challenging than the others!  Remember you can always get a hint or view the solution.)\n",
        "\n",
        "The [Titanic competition](https://www.kaggle.com/c/titanic) is Kaggle's most famous data science competition. In this competition, participants are challenged to build a machine learning model that can predict whether or not passengers survived the Titanic shipwreck, based on information like age, sex, family size, and ticket number.\n",
        "\n",
        "Run the next code cell without changes to load and preview the titanic data.\n",
        "\n",
        "Don't worry about the details of the code for now - the end result is just that the all of the titanic data has been loaded in a variable named `titanic_data`.  (In order to learn how to write this code yourself, you can take the [Python course](https://www.kaggle.com/learn/python) and then the [Pandas course](https://www.kaggle.com/learn/pandas).)"
      ],
      "metadata": {
        "papermill": {
          "duration": 0.003663,
          "end_time": "2025-02-18T21:06:40.551584",
          "exception": false,
          "start_time": "2025-02-18T21:06:40.547921",
          "status": "completed"
        },
        "tags": [],
        "id": "8gzx_gOdll1i"
      }
    },
    {
      "cell_type": "code",
      "source": [
        "# Load the data from the titanic competition\n",
        "import pandas as pd\n",
        "titanic_data = pd.read_csv(\"../input/titanic/train.csv\")\n",
        "\n",
        "# Show the first five rows of the data\n",
        "titanic_data.head()"
      ],
      "metadata": {
        "execution": {
          "iopub.status.busy": "2025-02-19T03:04:42.947998Z",
          "iopub.execute_input": "2025-02-19T03:04:42.948461Z",
          "iopub.status.idle": "2025-02-19T03:04:42.982687Z",
          "shell.execute_reply.started": "2025-02-19T03:04:42.948415Z",
          "shell.execute_reply": "2025-02-19T03:04:42.980587Z"
        },
        "papermill": {
          "duration": 0.043632,
          "end_time": "2025-02-18T21:06:40.599103",
          "exception": false,
          "start_time": "2025-02-18T21:06:40.555471",
          "status": "completed"
        },
        "tags": [],
        "trusted": true,
        "id": "2swK57t8ll1j",
        "outputId": "5ff438a8-a9ef-4489-a25f-87b39787d813",
        "colab": {
          "base_uri": "https://localhost:8080/",
          "height": 373
        }
      },
      "outputs": [
        {
          "output_type": "error",
          "ename": "FileNotFoundError",
          "evalue": "[Errno 2] No such file or directory: '../input/titanic/train.csv'",
          "traceback": [
            "\u001b[0;31m---------------------------------------------------------------------------\u001b[0m",
            "\u001b[0;31mFileNotFoundError\u001b[0m                         Traceback (most recent call last)",
            "\u001b[0;32m<ipython-input-9-366fc49e4377>\u001b[0m in \u001b[0;36m<cell line: 0>\u001b[0;34m()\u001b[0m\n\u001b[1;32m      1\u001b[0m \u001b[0;31m# Load the data from the titanic competition\u001b[0m\u001b[0;34m\u001b[0m\u001b[0;34m\u001b[0m\u001b[0m\n\u001b[1;32m      2\u001b[0m \u001b[0;32mimport\u001b[0m \u001b[0mpandas\u001b[0m \u001b[0;32mas\u001b[0m \u001b[0mpd\u001b[0m\u001b[0;34m\u001b[0m\u001b[0;34m\u001b[0m\u001b[0m\n\u001b[0;32m----> 3\u001b[0;31m \u001b[0mtitanic_data\u001b[0m \u001b[0;34m=\u001b[0m \u001b[0mpd\u001b[0m\u001b[0;34m.\u001b[0m\u001b[0mread_csv\u001b[0m\u001b[0;34m(\u001b[0m\u001b[0;34m\"../input/titanic/train.csv\"\u001b[0m\u001b[0;34m)\u001b[0m\u001b[0;34m\u001b[0m\u001b[0;34m\u001b[0m\u001b[0m\n\u001b[0m\u001b[1;32m      4\u001b[0m \u001b[0;34m\u001b[0m\u001b[0m\n\u001b[1;32m      5\u001b[0m \u001b[0;31m# Show the first five rows of the data\u001b[0m\u001b[0;34m\u001b[0m\u001b[0;34m\u001b[0m\u001b[0m\n",
            "\u001b[0;32m/usr/local/lib/python3.11/dist-packages/pandas/io/parsers/readers.py\u001b[0m in \u001b[0;36mread_csv\u001b[0;34m(filepath_or_buffer, sep, delimiter, header, names, index_col, usecols, dtype, engine, converters, true_values, false_values, skipinitialspace, skiprows, skipfooter, nrows, na_values, keep_default_na, na_filter, verbose, skip_blank_lines, parse_dates, infer_datetime_format, keep_date_col, date_parser, date_format, dayfirst, cache_dates, iterator, chunksize, compression, thousands, decimal, lineterminator, quotechar, quoting, doublequote, escapechar, comment, encoding, encoding_errors, dialect, on_bad_lines, delim_whitespace, low_memory, memory_map, float_precision, storage_options, dtype_backend)\u001b[0m\n\u001b[1;32m   1024\u001b[0m     \u001b[0mkwds\u001b[0m\u001b[0;34m.\u001b[0m\u001b[0mupdate\u001b[0m\u001b[0;34m(\u001b[0m\u001b[0mkwds_defaults\u001b[0m\u001b[0;34m)\u001b[0m\u001b[0;34m\u001b[0m\u001b[0;34m\u001b[0m\u001b[0m\n\u001b[1;32m   1025\u001b[0m \u001b[0;34m\u001b[0m\u001b[0m\n\u001b[0;32m-> 1026\u001b[0;31m     \u001b[0;32mreturn\u001b[0m \u001b[0m_read\u001b[0m\u001b[0;34m(\u001b[0m\u001b[0mfilepath_or_buffer\u001b[0m\u001b[0;34m,\u001b[0m \u001b[0mkwds\u001b[0m\u001b[0;34m)\u001b[0m\u001b[0;34m\u001b[0m\u001b[0;34m\u001b[0m\u001b[0m\n\u001b[0m\u001b[1;32m   1027\u001b[0m \u001b[0;34m\u001b[0m\u001b[0m\n\u001b[1;32m   1028\u001b[0m \u001b[0;34m\u001b[0m\u001b[0m\n",
            "\u001b[0;32m/usr/local/lib/python3.11/dist-packages/pandas/io/parsers/readers.py\u001b[0m in \u001b[0;36m_read\u001b[0;34m(filepath_or_buffer, kwds)\u001b[0m\n\u001b[1;32m    618\u001b[0m \u001b[0;34m\u001b[0m\u001b[0m\n\u001b[1;32m    619\u001b[0m     \u001b[0;31m# Create the parser.\u001b[0m\u001b[0;34m\u001b[0m\u001b[0;34m\u001b[0m\u001b[0m\n\u001b[0;32m--> 620\u001b[0;31m     \u001b[0mparser\u001b[0m \u001b[0;34m=\u001b[0m \u001b[0mTextFileReader\u001b[0m\u001b[0;34m(\u001b[0m\u001b[0mfilepath_or_buffer\u001b[0m\u001b[0;34m,\u001b[0m \u001b[0;34m**\u001b[0m\u001b[0mkwds\u001b[0m\u001b[0;34m)\u001b[0m\u001b[0;34m\u001b[0m\u001b[0;34m\u001b[0m\u001b[0m\n\u001b[0m\u001b[1;32m    621\u001b[0m \u001b[0;34m\u001b[0m\u001b[0m\n\u001b[1;32m    622\u001b[0m     \u001b[0;32mif\u001b[0m \u001b[0mchunksize\u001b[0m \u001b[0;32mor\u001b[0m \u001b[0miterator\u001b[0m\u001b[0;34m:\u001b[0m\u001b[0;34m\u001b[0m\u001b[0;34m\u001b[0m\u001b[0m\n",
            "\u001b[0;32m/usr/local/lib/python3.11/dist-packages/pandas/io/parsers/readers.py\u001b[0m in \u001b[0;36m__init__\u001b[0;34m(self, f, engine, **kwds)\u001b[0m\n\u001b[1;32m   1618\u001b[0m \u001b[0;34m\u001b[0m\u001b[0m\n\u001b[1;32m   1619\u001b[0m         \u001b[0mself\u001b[0m\u001b[0;34m.\u001b[0m\u001b[0mhandles\u001b[0m\u001b[0;34m:\u001b[0m \u001b[0mIOHandles\u001b[0m \u001b[0;34m|\u001b[0m \u001b[0;32mNone\u001b[0m \u001b[0;34m=\u001b[0m \u001b[0;32mNone\u001b[0m\u001b[0;34m\u001b[0m\u001b[0;34m\u001b[0m\u001b[0m\n\u001b[0;32m-> 1620\u001b[0;31m         \u001b[0mself\u001b[0m\u001b[0;34m.\u001b[0m\u001b[0m_engine\u001b[0m \u001b[0;34m=\u001b[0m \u001b[0mself\u001b[0m\u001b[0;34m.\u001b[0m\u001b[0m_make_engine\u001b[0m\u001b[0;34m(\u001b[0m\u001b[0mf\u001b[0m\u001b[0;34m,\u001b[0m \u001b[0mself\u001b[0m\u001b[0;34m.\u001b[0m\u001b[0mengine\u001b[0m\u001b[0;34m)\u001b[0m\u001b[0;34m\u001b[0m\u001b[0;34m\u001b[0m\u001b[0m\n\u001b[0m\u001b[1;32m   1621\u001b[0m \u001b[0;34m\u001b[0m\u001b[0m\n\u001b[1;32m   1622\u001b[0m     \u001b[0;32mdef\u001b[0m \u001b[0mclose\u001b[0m\u001b[0;34m(\u001b[0m\u001b[0mself\u001b[0m\u001b[0;34m)\u001b[0m \u001b[0;34m->\u001b[0m \u001b[0;32mNone\u001b[0m\u001b[0;34m:\u001b[0m\u001b[0;34m\u001b[0m\u001b[0;34m\u001b[0m\u001b[0m\n",
            "\u001b[0;32m/usr/local/lib/python3.11/dist-packages/pandas/io/parsers/readers.py\u001b[0m in \u001b[0;36m_make_engine\u001b[0;34m(self, f, engine)\u001b[0m\n\u001b[1;32m   1878\u001b[0m                 \u001b[0;32mif\u001b[0m \u001b[0;34m\"b\"\u001b[0m \u001b[0;32mnot\u001b[0m \u001b[0;32min\u001b[0m \u001b[0mmode\u001b[0m\u001b[0;34m:\u001b[0m\u001b[0;34m\u001b[0m\u001b[0;34m\u001b[0m\u001b[0m\n\u001b[1;32m   1879\u001b[0m                     \u001b[0mmode\u001b[0m \u001b[0;34m+=\u001b[0m \u001b[0;34m\"b\"\u001b[0m\u001b[0;34m\u001b[0m\u001b[0;34m\u001b[0m\u001b[0m\n\u001b[0;32m-> 1880\u001b[0;31m             self.handles = get_handle(\n\u001b[0m\u001b[1;32m   1881\u001b[0m                 \u001b[0mf\u001b[0m\u001b[0;34m,\u001b[0m\u001b[0;34m\u001b[0m\u001b[0;34m\u001b[0m\u001b[0m\n\u001b[1;32m   1882\u001b[0m                 \u001b[0mmode\u001b[0m\u001b[0;34m,\u001b[0m\u001b[0;34m\u001b[0m\u001b[0;34m\u001b[0m\u001b[0m\n",
            "\u001b[0;32m/usr/local/lib/python3.11/dist-packages/pandas/io/common.py\u001b[0m in \u001b[0;36mget_handle\u001b[0;34m(path_or_buf, mode, encoding, compression, memory_map, is_text, errors, storage_options)\u001b[0m\n\u001b[1;32m    871\u001b[0m         \u001b[0;32mif\u001b[0m \u001b[0mioargs\u001b[0m\u001b[0;34m.\u001b[0m\u001b[0mencoding\u001b[0m \u001b[0;32mand\u001b[0m \u001b[0;34m\"b\"\u001b[0m \u001b[0;32mnot\u001b[0m \u001b[0;32min\u001b[0m \u001b[0mioargs\u001b[0m\u001b[0;34m.\u001b[0m\u001b[0mmode\u001b[0m\u001b[0;34m:\u001b[0m\u001b[0;34m\u001b[0m\u001b[0;34m\u001b[0m\u001b[0m\n\u001b[1;32m    872\u001b[0m             \u001b[0;31m# Encoding\u001b[0m\u001b[0;34m\u001b[0m\u001b[0;34m\u001b[0m\u001b[0m\n\u001b[0;32m--> 873\u001b[0;31m             handle = open(\n\u001b[0m\u001b[1;32m    874\u001b[0m                 \u001b[0mhandle\u001b[0m\u001b[0;34m,\u001b[0m\u001b[0;34m\u001b[0m\u001b[0;34m\u001b[0m\u001b[0m\n\u001b[1;32m    875\u001b[0m                 \u001b[0mioargs\u001b[0m\u001b[0;34m.\u001b[0m\u001b[0mmode\u001b[0m\u001b[0;34m,\u001b[0m\u001b[0;34m\u001b[0m\u001b[0;34m\u001b[0m\u001b[0m\n",
            "\u001b[0;31mFileNotFoundError\u001b[0m: [Errno 2] No such file or directory: '../input/titanic/train.csv'"
          ]
        }
      ],
      "execution_count": null
    },
    {
      "cell_type": "markdown",
      "source": [
        "The data has a different row for each passenger.  \n",
        "\n",
        "The next code cell defines and prints the values of three variables:  \n",
        "- `total` = total number of passengers who boarded the ship\n",
        "- `survived` = number of passengers who survived the shipwreck\n",
        "- `minors` = number of passengers under 18 years of age\n",
        "\n",
        "Run the code cell without changes.  (Don't worry about the details of how these variables are calculated for now.  You can learn more about how to calculate these values in the [Pandas course](https://www.kaggle.com/learn/pandas).)"
      ],
      "metadata": {
        "papermill": {
          "duration": 0.004,
          "end_time": "2025-02-18T21:06:40.607839",
          "exception": false,
          "start_time": "2025-02-18T21:06:40.603839",
          "status": "completed"
        },
        "tags": [],
        "id": "iLnMDUMvll1k"
      }
    },
    {
      "cell_type": "code",
      "source": [
        "# Number of total passengers\n",
        "total = len(titanic_data)\n",
        "print(total)\n",
        "\n",
        "# Number of passengers who survived\n",
        "survived = (titanic_data.Survived == 1).sum()\n",
        "print(survived)\n",
        "\n",
        "# Number of passengers under 18\n",
        "minors = (titanic_data.Age < 18).sum()\n",
        "print(minors)"
      ],
      "metadata": {
        "execution": {
          "iopub.status.busy": "2025-02-19T03:04:43.077442Z",
          "iopub.execute_input": "2025-02-19T03:04:43.077894Z",
          "iopub.status.idle": "2025-02-19T03:04:43.088397Z",
          "shell.execute_reply.started": "2025-02-19T03:04:43.077855Z",
          "shell.execute_reply": "2025-02-19T03:04:43.086767Z"
        },
        "papermill": {
          "duration": 0.014126,
          "end_time": "2025-02-18T21:06:40.62614",
          "exception": false,
          "start_time": "2025-02-18T21:06:40.612014",
          "status": "completed"
        },
        "tags": [],
        "trusted": true,
        "id": "ba8xNuWAll1k",
        "outputId": "2c57b428-1013-4ff2-925d-f603a92556bf",
        "colab": {
          "base_uri": "https://localhost:8080/",
          "height": 211
        }
      },
      "outputs": [
        {
          "output_type": "error",
          "ename": "NameError",
          "evalue": "name 'titanic_data' is not defined",
          "traceback": [
            "\u001b[0;31m---------------------------------------------------------------------------\u001b[0m",
            "\u001b[0;31mNameError\u001b[0m                                 Traceback (most recent call last)",
            "\u001b[0;32m<ipython-input-10-8bfd028b509b>\u001b[0m in \u001b[0;36m<cell line: 0>\u001b[0;34m()\u001b[0m\n\u001b[1;32m      1\u001b[0m \u001b[0;31m# Number of total passengers\u001b[0m\u001b[0;34m\u001b[0m\u001b[0;34m\u001b[0m\u001b[0m\n\u001b[0;32m----> 2\u001b[0;31m \u001b[0mtotal\u001b[0m \u001b[0;34m=\u001b[0m \u001b[0mlen\u001b[0m\u001b[0;34m(\u001b[0m\u001b[0mtitanic_data\u001b[0m\u001b[0;34m)\u001b[0m\u001b[0;34m\u001b[0m\u001b[0;34m\u001b[0m\u001b[0m\n\u001b[0m\u001b[1;32m      3\u001b[0m \u001b[0mprint\u001b[0m\u001b[0;34m(\u001b[0m\u001b[0mtotal\u001b[0m\u001b[0;34m)\u001b[0m\u001b[0;34m\u001b[0m\u001b[0;34m\u001b[0m\u001b[0m\n\u001b[1;32m      4\u001b[0m \u001b[0;34m\u001b[0m\u001b[0m\n\u001b[1;32m      5\u001b[0m \u001b[0;31m# Number of passengers who survived\u001b[0m\u001b[0;34m\u001b[0m\u001b[0;34m\u001b[0m\u001b[0m\n",
            "\u001b[0;31mNameError\u001b[0m: name 'titanic_data' is not defined"
          ]
        }
      ],
      "execution_count": null
    },
    {
      "cell_type": "markdown",
      "source": [
        "So,\n",
        "- `total = 891` (there were 891 passengers on board the Titanic),\n",
        "- `survived = 342` (342 passengers survived), and\n",
        "- `minors = 113` (113 passengers were under the age of 18).\n",
        "\n",
        "In the code cell below, replace the underlines (`____`) with code to calculate the values for two more variables:\n",
        "- `survived_fraction` should be set to the fraction of passengers who survived the Titanic disaster.\n",
        "- `minors_fraction` should be the fraction of passengers who were minors (under the age of 18).\n",
        "\n",
        "For each variable, your answer should be a number between 0 and 1.  \n",
        "\n",
        "If you need a hint or want to view the solution, you can skip to the next code cell and uncomment the appropriate lines of code (`q5.hint()` and `q5.solution()`)."
      ],
      "metadata": {
        "papermill": {
          "duration": 0.003921,
          "end_time": "2025-02-18T21:06:40.634964",
          "exception": false,
          "start_time": "2025-02-18T21:06:40.631043",
          "status": "completed"
        },
        "tags": [],
        "id": "9DO08dUhll1k"
      }
    },
    {
      "cell_type": "code",
      "source": [
        "# TODO: Fill in the value of the survived_fraction variable\n",
        "total = 891\n",
        "survived = 342\n",
        "minors = 113\n",
        "survived_fraction = survived/total\n",
        "\n",
        "# Print the value of the variable\n",
        "print(survived_fraction)\n",
        "\n",
        "# TODO: Fill in the value of the minors_fraction variable\n",
        "minors_fraction = minors/total\n",
        "\n",
        "# Print the value of the variable\n",
        "print(minors_fraction)\n",
        "\n",
        "# DO NOT REMOVE: Check your answer\n",
        "#q5.check()"
      ],
      "metadata": {
        "execution": {
          "iopub.status.busy": "2025-02-19T03:04:43.09041Z",
          "iopub.execute_input": "2025-02-19T03:04:43.090788Z",
          "iopub.status.idle": "2025-02-19T03:04:43.124279Z",
          "shell.execute_reply.started": "2025-02-19T03:04:43.090753Z",
          "shell.execute_reply": "2025-02-19T03:04:43.121889Z"
        },
        "papermill": {
          "duration": 0.012596,
          "end_time": "2025-02-18T21:06:40.651724",
          "exception": false,
          "start_time": "2025-02-18T21:06:40.639128",
          "status": "completed"
        },
        "tags": [],
        "trusted": true,
        "id": "jzRJT6M3ll1k"
      },
      "outputs": [],
      "execution_count": null
    },
    {
      "cell_type": "code",
      "source": [
        "# Uncomment to receive a hint\n",
        "#q5.hint()\n",
        "\n",
        "# Uncomment to view the solution\n",
        "#q5.solution()"
      ],
      "metadata": {
        "execution": {
          "iopub.status.busy": "2025-02-19T03:04:43.125337Z",
          "iopub.status.idle": "2025-02-19T03:04:43.125835Z",
          "shell.execute_reply": "2025-02-19T03:04:43.125671Z"
        },
        "papermill": {
          "duration": 0.009191,
          "end_time": "2025-02-18T21:06:40.665978",
          "exception": false,
          "start_time": "2025-02-18T21:06:40.656787",
          "status": "completed"
        },
        "tags": [],
        "trusted": true,
        "id": "DDTyWuDAll1k"
      },
      "outputs": [],
      "execution_count": null
    },
    {
      "cell_type": "markdown",
      "source": [
        "# Bonus Exercise\n",
        "\n",
        "As an **optional** next step, you're encouraged to make a submission to the Titanic competition.  \n",
        "> To do this, follow the instructions in the **[notebook here](https://www.kaggle.com/alexisbcook/titanic-tutorial)**.  \n",
        "\n",
        "The notebook is beginner-friendly and does not assume you have any experience with coding.  At the same time, you'll learn how to author your own notebooks on Kaggle, and it gives you a great idea of what you'll be able to do if you continue to learn data science!\n",
        "\n",
        "# Keep going\n",
        "\n",
        "Congratulations!  You have just finished the first exercise in the Intro to Programming course!  \n",
        "\n",
        "You are now ready to learn how to **[organize your code with functions](https://www.kaggle.com/alexisbcook/functions)**."
      ],
      "metadata": {
        "papermill": {
          "duration": 0.004259,
          "end_time": "2025-02-18T21:06:40.675727",
          "exception": false,
          "start_time": "2025-02-18T21:06:40.671468",
          "status": "completed"
        },
        "tags": [],
        "id": "w6WXPbTvll1l"
      }
    },
    {
      "cell_type": "markdown",
      "source": [
        "---\n",
        "\n",
        "\n",
        "\n",
        "\n",
        "*Have questions or comments? Visit the [course discussion forum](https://www.kaggle.com/learn/intro-to-programming/discussion) to chat with other learners.*"
      ],
      "metadata": {
        "papermill": {
          "duration": 0.004065,
          "end_time": "2025-02-18T21:06:40.684184",
          "exception": false,
          "start_time": "2025-02-18T21:06:40.680119",
          "status": "completed"
        },
        "tags": [],
        "id": "THeVXcnell1l"
      }
    }
  ]
}